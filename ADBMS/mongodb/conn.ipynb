{
 "cells": [
  {
   "cell_type": "code",
   "execution_count": 3,
   "metadata": {},
   "outputs": [],
   "source": [
    "import pymongo\n",
    "conn=pymongo.MongoClient(\"mongodb://localhost:27017/\")\n",
    "db=conn['college']\n",
    "col=db['studlist']"
   ]
  },
  {
   "cell_type": "markdown",
   "metadata": {},
   "source": [
    "1.Display name and marks of all female student in MCA"
   ]
  },
  {
   "cell_type": "code",
   "execution_count": 4,
   "metadata": {},
   "outputs": [
    {
     "name": "stdout",
     "output_type": "stream",
     "text": [
      "\n",
      "Name: Athira Krishnan\n",
      "Mark:  80\n",
      "\n",
      "Name: Divya Vijayan\n",
      "Mark:  70\n",
      "\n",
      "Name: Renuka Vijayan\n",
      "Mark:  82\n",
      "\n",
      "Name: Remya V\n",
      "Mark:  85\n",
      "\n",
      "Name: Remya Sugunan\n",
      "Mark:  72\n",
      "\n",
      "Name: Vidhya Sugunan\n",
      "Mark:  79\n",
      "\n",
      "Name: Soorya S\n",
      "Mark:  79\n",
      "\n",
      "Name: Amritha S\n",
      "Mark:  99\n",
      "\n",
      "Name: Soorya P\n",
      "Mark:  74\n"
     ]
    }
   ],
   "source": [
    "x=db.studlist.find({\"gender\":\"female\",\"course\":\"MCA\"},{\"name\":1,\"mark\":1})\n",
    "for i in x:\n",
    "    print(\"\\nName: \"+i['name']['fname']+\" \"+i['name']['lname']+\"\\nMark: \",i['mark'])\n",
    "    "
   ]
  },
  {
   "cell_type": "markdown",
   "metadata": {},
   "source": [
    "2.Display the details of student who secured highest mark in the course MCA"
   ]
  },
  {
   "cell_type": "code",
   "execution_count": 7,
   "metadata": {},
   "outputs": [
    {
     "name": "stdout",
     "output_type": "stream",
     "text": [
      "_id: 20\n",
      "name: {'fname': 'Amritha', 'lname': 'S'}\n",
      "address: {'house_name': 'Arya Bhavan', 'city': 'Varkala'}\n",
      "gender: female\n",
      "course: MCA\n",
      "mark: 99\n",
      "grade: A+\n",
      "phone: {'type': 'mobile', 'no': 9445365787}\n"
     ]
    }
   ],
   "source": [
    "x=db.studlist.find({\"course\":\"MCA\"}).sort(\"mark\",-1).limit(1)\n",
    "for i in x:\n",
    "    for j in i.keys():\n",
    "        print(j+\":\",i[j])"
   ]
  },
  {
   "cell_type": "markdown",
   "metadata": {},
   "source": [
    "3.Display all male students who secured A+ grade."
   ]
  },
  {
   "cell_type": "code",
   "execution_count": 8,
   "metadata": {},
   "outputs": [
    {
     "name": "stdout",
     "output_type": "stream",
     "text": [
      "Vimal Vinayan\n",
      "Vimal Bose\n",
      "Arun S\n"
     ]
    }
   ],
   "source": [
    "x=db.studlist.find({\"gender\":\"male\",\"grade\":\"A+\"})\n",
    "for i in x:\n",
    "    print(i['name']['fname']+\" \"+i['name']['lname'])"
   ]
  },
  {
   "cell_type": "markdown",
   "metadata": {},
   "source": [
    "4.Display the names of the top three students in Mechanical department."
   ]
  },
  {
   "cell_type": "code",
   "execution_count": 9,
   "metadata": {},
   "outputs": [
    {
     "name": "stdout",
     "output_type": "stream",
     "text": [
      "Kavya Mohan\n",
      "Vimal Vinayan\n",
      "Yadu Kannan\n"
     ]
    }
   ],
   "source": [
    "x=db.studlist.find({\"course\":\"Mechanical\"}).sort(\"mark\",-1).limit(3)\n",
    "for i in x:\n",
    "     print(i['name']['fname']+\" \"+i['name']['lname'])"
   ]
  },
  {
   "cell_type": "markdown",
   "metadata": {},
   "source": [
    "5.Display the details of female students who achived a mark more than 90"
   ]
  },
  {
   "cell_type": "code",
   "execution_count": 12,
   "metadata": {},
   "outputs": [
    {
     "name": "stdout",
     "output_type": "stream",
     "text": [
      "\n",
      "Name: Kavya Mohan\n",
      "Grade: A+\n",
      "Marks:  95 \n",
      "Contact_no:  9448399780\n",
      "\n",
      "Name: Amritha S\n",
      "Grade: A+\n",
      "Marks:  99 \n",
      "Contact_no:  9445365787\n"
     ]
    }
   ],
   "source": [
    "x=db.studlist.find({\"mark\":{\"$gt\":90},\"gender\":\"female\"})\n",
    "for i in x:\n",
    "     print(\"\\nName: \"+i['name']['fname']+\" \"+i['name']['lname']+\"\\nGrade: \"+i['grade']+\"\\nMarks: \",i['mark'],\"\\nContact_no: \",i['phone']['no'])"
   ]
  },
  {
   "cell_type": "markdown",
   "metadata": {},
   "source": [
    "6.Display the details of student who secured mark, more than 80 but less than 90"
   ]
  },
  {
   "cell_type": "code",
   "execution_count": 13,
   "metadata": {},
   "outputs": [
    {
     "name": "stdout",
     "output_type": "stream",
     "text": [
      "\n",
      "Name: Vidhya S\n",
      "Grade: A\n",
      "Marks:  85 \n",
      "Contact_no:  8146321420\n",
      "\n",
      "Name: Yadu Kannan\n",
      "Grade: A\n",
      "Marks:  85 \n",
      "Contact_no:  9446321780\n",
      "\n",
      "Name: Renuka Vijayan\n",
      "Grade: A\n",
      "Marks:  82 \n",
      "Contact_no:  04712547890\n",
      "\n",
      "Name: Remya V\n",
      "Grade: A\n",
      "Marks:  85 \n",
      "Contact_no:  04712647890\n"
     ]
    }
   ],
   "source": [
    "x=db.studlist.find({\"mark\":{\"$gt\":80,\"$lt\":90}})\n",
    "for i in x:\n",
    "     print(\"\\nName: \"+i['name']['fname']+\" \"+i['name']['lname']+\"\\nGrade: \"+i['grade']+\"\\nMarks: \",i['mark'],\"\\nContact_no: \",i['phone']['no'])\n"
   ]
  },
  {
   "cell_type": "markdown",
   "metadata": {},
   "source": [
    "7.Display the details of student whose name starts with V"
   ]
  },
  {
   "cell_type": "code",
   "execution_count": 14,
   "metadata": {},
   "outputs": [
    {
     "name": "stdout",
     "output_type": "stream",
     "text": [
      "\n",
      "Name: Varun Nair\n",
      "Course: MCA\n",
      "Grade: B+\n",
      "Marks:  70 \n",
      "Contact no:  04712662690\n",
      "\n",
      "Name: Vidhya S\n",
      "Course: Civil\n",
      "Grade: A\n",
      "Marks:  85 \n",
      "Contact no:  8146321420\n",
      "\n",
      "Name: Vivek Bose\n",
      "Course: MCA\n",
      "Grade: B\n",
      "Marks:  60 \n",
      "Contact no:  04842663890\n",
      "\n",
      "Name: Vimal Vinayan\n",
      "Course: Mechanical\n",
      "Grade: A+\n",
      "Marks:  90 \n",
      "Contact no:  8185399780\n",
      "\n",
      "Name: Vimal Bose\n",
      "Course: MCA\n",
      "Grade: A+\n",
      "Marks:  90 \n",
      "Contact no:  9485399780\n",
      "\n",
      "Name: Vinod Paniker\n",
      "Course: MCA\n",
      "Grade: B\n",
      "Marks:  70 \n",
      "Contact no:  9445399787\n",
      "\n",
      "Name: Vidhya Sugunan\n",
      "Course: MCA\n",
      "Grade: B+\n",
      "Marks:  79 \n",
      "Contact no:  04712647790\n"
     ]
    }
   ],
   "source": [
    "x=db.studlist.find({\"name.fname\":{\"$regex\":\"^V\"}})\n",
    "for i in x:\n",
    "    print(\"\\nName: \"+i['name']['fname']+\" \"+i['name']['lname']+\"\\nCourse: \"+i['course']+\"\\nGrade: \"+i['grade']+\"\\nMarks: \",i['mark'],\"\\nContact no: \",i['phone']['no'])"
   ]
  },
  {
   "cell_type": "markdown",
   "metadata": {},
   "source": [
    "8.Display all students from Kollam"
   ]
  },
  {
   "cell_type": "code",
   "execution_count": 15,
   "metadata": {},
   "outputs": [
    {
     "name": "stdout",
     "output_type": "stream",
     "text": [
      "Athira Krishnan\n",
      "Yadu Kannan\n",
      "Kavya Mohan\n",
      "Vimal Vinayan\n",
      "Jabin S\n",
      "Arya Satheesh\n"
     ]
    }
   ],
   "source": [
    "x=db.studlist.find({\"address.city\":\"Kollam\"})\n",
    "for i in x:\n",
    "    print(i['name']['fname']+\" \"+i['name']['lname'])"
   ]
  },
  {
   "cell_type": "markdown",
   "metadata": {},
   "source": [
    "9.Display all students who do not belong to neither Kollam nor Thiruvananthapuram"
   ]
  },
  {
   "cell_type": "code",
   "execution_count": 16,
   "metadata": {},
   "outputs": [
    {
     "name": "stdout",
     "output_type": "stream",
     "text": [
      "\n",
      "Name: Arya S\n",
      "City: Varkala\n",
      "\n",
      "Name: Vidhya S\n",
      "City: Kadakkavoor\n",
      "\n",
      "Name: Vivek Bose\n",
      "City: Ernakulam\n",
      "\n",
      "Name: Divya Vijayan\n",
      "City: Varkala\n",
      "\n",
      "Name: Vimal Bose\n",
      "City: Ernakulam\n",
      "\n",
      "Name: Vinod Paniker\n",
      "City: Ernakulam\n",
      "\n",
      "Name: Amritha S\n",
      "City: Varkala\n",
      "\n",
      "Name: Arun S\n",
      "City: Attingal\n",
      "\n",
      "Name: Abhilash S\n",
      "City: Attingal\n",
      "\n",
      "Name: Sree Raj\n",
      "City: Varkala\n"
     ]
    }
   ],
   "source": [
    "x=db.studlist.find({\"address.city\":{\"$nin\":[\"Kollam\",\"Thiruvananthapuram\"]}})\n",
    "for i in x:\n",
    "    print(\"\\nName: \"+i['name']['fname']+\" \"+i['name']['lname']+\"\\nCity: \"+i[\"address\"][\"city\"])"
   ]
  },
  {
   "cell_type": "markdown",
   "metadata": {},
   "source": [
    "10.Display all female students belong to either Kollam or Thiruvananthapuram"
   ]
  },
  {
   "cell_type": "code",
   "execution_count": 17,
   "metadata": {},
   "outputs": [
    {
     "name": "stdout",
     "output_type": "stream",
     "text": [
      "\n",
      "Name: Athira Krishnan\n",
      "City: Kollam\n",
      "\n",
      "Name: Kavya Mohan\n",
      "City: Kollam\n",
      "\n",
      "Name: Renuka Vijayan\n",
      "City: Thiruvananthapuram\n",
      "\n",
      "Name: Remya V\n",
      "City: Thiruvananthapuram\n",
      "\n",
      "Name: Remya Sugunan\n",
      "City: Thiruvananthapuram\n",
      "\n",
      "Name: Vidhya Sugunan\n",
      "City: Thiruvananthapuram\n",
      "\n",
      "Name: Arya Satheesh\n",
      "City: Kollam\n",
      "\n",
      "Name: Soorya S\n",
      "City: Thiruvananthapuram\n",
      "\n",
      "Name: Soorya P\n",
      "City: Thiruvananthapuram\n"
     ]
    }
   ],
   "source": [
    "x=db.studlist.find({\"gender\":\"female\",\"address.city\":{\"$in\":['Kollam',\"Thiruvananthapuram\"]}})\n",
    "for i in x:\n",
    "    print(\"\\nName: \"+i['name']['fname']+\" \"+i['name']['lname']+\"\\nCity: \"+i[\"address\"][\"city\"])"
   ]
  },
  {
   "cell_type": "markdown",
   "metadata": {},
   "source": [
    "11.To update a cell"
   ]
  },
  {
   "cell_type": "code",
   "execution_count": 5,
   "metadata": {},
   "outputs": [],
   "source": [
    "x=db.studlist.update_one({\"_id\":1},{\"$set\":{\"mark\":78}})\n"
   ]
  },
  {
   "cell_type": "code",
   "execution_count": 8,
   "metadata": {},
   "outputs": [],
   "source": [
    "x=db.studlist.find({\"_id\":1})\n",
    "for i in x:\n",
    "    print(\"\\nName: \"+i['name']['fname']+\" \"+i['name']['lname']+\"\\nCourse: \"+i['course']+\"\\nGrade: \"+i['grade']+\"\\nMarks: \",i['mark'],\"\\nContact no: \",i['phone']['no'])\n"
   ]
  },
  {
   "cell_type": "markdown",
   "metadata": {},
   "source": [
    "12.To delete a cell"
   ]
  },
  {
   "cell_type": "code",
   "execution_count": 7,
   "metadata": {},
   "outputs": [],
   "source": [
    "x=db.studlist.delete_one({\"_id\":1})"
   ]
  }
 ],
 "metadata": {
  "kernelspec": {
   "display_name": "Python 3",
   "language": "python",
   "name": "python3"
  },
  "language_info": {
   "codemirror_mode": {
    "name": "ipython",
    "version": 3
   },
   "file_extension": ".py",
   "mimetype": "text/x-python",
   "name": "python",
   "nbconvert_exporter": "python",
   "pygments_lexer": "ipython3",
   "version": "3.12.0"
  }
 },
 "nbformat": 4,
 "nbformat_minor": 2
}
